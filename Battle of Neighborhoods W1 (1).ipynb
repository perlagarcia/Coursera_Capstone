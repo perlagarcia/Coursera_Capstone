{
 "cells": [
  {
   "cell_type": "markdown",
   "metadata": {},
   "source": [
    "## International Food Restaurant "
   ]
  },
  {
   "cell_type": "markdown",
   "metadata": {},
   "source": [
    "A group of friends just won the lottery and are looking for the best way to invest their newly won luck. Some want to open a restaurant serving Indian and Pakistani food, others prefer to think of Arabic food. They know they want to establish it in one of the following two Mexican cities: Monterrey or Guadalajara. Before making their investment they need to know in which of the cities it is better to invest. Therefore, they want to know which is the area with most restaurants in both cities, what type of international food is the most common to have a good idea of how the market is in the chosen cities. This approach will be given to this group of friends who are around forty years old, some of them know something about administration, others know about cooking and one of them knows about having a restaurant."
   ]
  },
  {
   "cell_type": "markdown",
   "metadata": {},
   "source": [
    "## Data and use"
   ]
  },
  {
   "cell_type": "markdown",
   "metadata": {},
   "source": [
    "For this first approach, the data from the downtown neighborhoods and boroughs will be extracted from FourSquare, to know the areas where the restaurants are located.\n",
    "Later it will be seen what type of restaurants are the most common.\n",
    "It will also be  seen how many of those restaurants of each type and in which area are they located\n",
    "Then a comparison of these data will be made to present them to the group.\n",
    "To help visualize this information, a folium map will be presented."
   ]
  },
  {
   "cell_type": "code",
   "execution_count": null,
   "metadata": {},
   "outputs": [],
   "source": []
  },
  {
   "cell_type": "code",
   "execution_count": null,
   "metadata": {},
   "outputs": [],
   "source": []
  }
 ],
 "metadata": {
  "kernelspec": {
   "display_name": "Python",
   "language": "python",
   "name": "conda-env-python-py"
  },
  "language_info": {
   "codemirror_mode": {
    "name": "ipython",
    "version": 3
   },
   "file_extension": ".py",
   "mimetype": "text/x-python",
   "name": "python",
   "nbconvert_exporter": "python",
   "pygments_lexer": "ipython3",
   "version": "3.6.11"
  }
 },
 "nbformat": 4,
 "nbformat_minor": 4
}
